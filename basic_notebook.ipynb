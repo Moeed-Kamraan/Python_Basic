{
 "cells": [
  {
   "cell_type": "code",
   "execution_count": 1,
   "metadata": {},
   "outputs": [
    {
     "name": "stdout",
     "output_type": "stream",
     "text": [
      "6\n"
     ]
    }
   ],
   "source": [
    "x=6;\n",
    "print(x)"
   ]
  },
  {
   "cell_type": "code",
   "execution_count": 8,
   "metadata": {},
   "outputs": [
    {
     "name": "stdout",
     "output_type": "stream",
     "text": [
      "Your favourite number is: 4\n"
     ]
    }
   ],
   "source": [
    "my_fav_num = input(\"Enter your favourite number: \")\n",
    "print(\"Your favourite number is: \", my_fav_num)\n"
   ]
  },
  {
   "cell_type": "code",
   "execution_count": 4,
   "metadata": {},
   "outputs": [
    {
     "name": "stdout",
     "output_type": "stream",
     "text": [
      "infy 20.127 10\n",
      "infy/20.127/10\n",
      "infy 20.127 10 infy 20.127 10\n",
      "b=20.13\n",
      "c=      10\n",
      "c=10      \n"
     ]
    }
   ],
   "source": [
    "a=\"infy\"\n",
    "b=20.127\n",
    "c=10\n",
    "print(a,b,c)\n",
    "print(a,b,c,sep=\"/\")\n",
    "print(a,b,c,end=\" \")\n",
    "print(a,b,c)\n",
    "print(\"b=%0.2f\" %b)\n",
    "print(\"c=%8d\" %c)\n",
    "print(\"c=%-8d\" %c)\n"
   ]
  },
  {
   "cell_type": "code",
   "execution_count": 1,
   "metadata": {},
   "outputs": [
    {
     "name": "stdout",
     "output_type": "stream",
     "text": [
      "Asalamu alikum\n"
     ]
    }
   ],
   "source": [
    "print('Asalamu alikum')"
   ]
  },
  {
   "cell_type": "code",
   "execution_count": 2,
   "metadata": {},
   "outputs": [
    {
     "data": {
      "text/plain": [
       "6"
      ]
     },
     "execution_count": 2,
     "metadata": {},
     "output_type": "execute_result"
    }
   ],
   "source": [
    "len('islam ')"
   ]
  },
  {
   "cell_type": "code",
   "execution_count": 9,
   "metadata": {},
   "outputs": [
    {
     "data": {
      "text/plain": [
       "str"
      ]
     },
     "execution_count": 9,
     "metadata": {},
     "output_type": "execute_result"
    }
   ],
   "source": [
    "type('r')"
   ]
  },
  {
   "cell_type": "code",
   "execution_count": 6,
   "metadata": {},
   "outputs": [
    {
     "data": {
      "text/plain": [
       "int"
      ]
     },
     "execution_count": 6,
     "metadata": {},
     "output_type": "execute_result"
    }
   ],
   "source": [
    "type(4)"
   ]
  },
  {
   "cell_type": "code",
   "execution_count": 7,
   "metadata": {},
   "outputs": [
    {
     "data": {
      "text/plain": [
       "float"
      ]
     },
     "execution_count": 7,
     "metadata": {},
     "output_type": "execute_result"
    }
   ],
   "source": [
    "type(2.3)"
   ]
  },
  {
   "cell_type": "code",
   "execution_count": 10,
   "metadata": {},
   "outputs": [
    {
     "name": "stdout",
     "output_type": "stream",
     "text": [
      "0\n",
      "1\n",
      "2\n",
      "3\n",
      "4\n",
      "5\n",
      "6\n"
     ]
    }
   ],
   "source": [
    "#Generates a sequence of numbers, often used in loops.\n",
    "for i in range(7):\n",
    "    print(i)"
   ]
  },
  {
   "cell_type": "code",
   "execution_count": 13,
   "metadata": {},
   "outputs": [
    {
     "name": "stdout",
     "output_type": "stream",
     "text": [
      "123\n"
     ]
    }
   ],
   "source": [
    "#input()\n",
    "#Reads input from the user.\n",
    "name=input('enter your name : ')\n",
    "print(name)"
   ]
  },
  {
   "cell_type": "code",
   "execution_count": null,
   "metadata": {},
   "outputs": [],
   "source": []
  },
  {
   "cell_type": "code",
   "execution_count": 16,
   "metadata": {},
   "outputs": [
    {
     "data": {
      "text/plain": [
       "4.0"
      ]
     },
     "execution_count": 16,
     "metadata": {},
     "output_type": "execute_result"
    }
   ],
   "source": [
    "# str(), int(), float()\n",
    "\n",
    "# # Convert values to string, integer, and float respectively.\n",
    "str(45)\n",
    "int(2.3)\n",
    "float(4)"
   ]
  },
  {
   "cell_type": "code",
   "execution_count": 21,
   "metadata": {},
   "outputs": [
    {
     "name": "stdout",
     "output_type": "stream",
     "text": [
      "['a', 'b', 'c']\n",
      "(1, 2, 4, 5)\n",
      "{1, 3, 5, 7}\n"
     ]
    }
   ],
   "source": [
    "# list(), tuple(), set(), dict()\n",
    "\n",
    "# Create list, tuple, set, and dictionary objects.\n",
    "print(list('abc'))\n",
    "print(tuple([1,2,4,5]))\n",
    "print(set([1,3,5,7]))"
   ]
  },
  {
   "cell_type": "code",
   "execution_count": 22,
   "metadata": {},
   "outputs": [
    {
     "name": "stdout",
     "output_type": "stream",
     "text": [
      "['a', 'b', 'c']\n",
      "(1, 2, 4, 5)\n",
      "{1, 3, 5, 7}\n"
     ]
    }
   ],
   "source": [
    "results = [list('abc'), tuple([1, 2, 4, 5]), set([1, 3, 5, 7])]\n",
    "\n",
    "for result in results:\n",
    "    print(result)\n"
   ]
  },
  {
   "cell_type": "code",
   "execution_count": 24,
   "metadata": {},
   "outputs": [
    {
     "name": "stdout",
     "output_type": "stream",
     "text": [
      "0 a\n",
      "1 b\n",
      "2 c\n"
     ]
    }
   ],
   "source": [
    "for index, value in enumerate(['a', 'b', 'c']):\n",
    "    print(index, value)\n"
   ]
  },
  {
   "cell_type": "code",
   "execution_count": 27,
   "metadata": {},
   "outputs": [
    {
     "data": {
      "text/plain": [
       "[4, 1, 2, 7, 8]"
      ]
     },
     "execution_count": 27,
     "metadata": {},
     "output_type": "execute_result"
    }
   ],
   "source": [
    "list(filter(lambda x: x > 0, [-1, 4,-1,-4,0, 1, 2,7,8]))  \n"
   ]
  },
  {
   "cell_type": "code",
   "execution_count": 32,
   "metadata": {},
   "outputs": [
    {
     "name": "stdout",
     "output_type": "stream",
     "text": [
      "[1, 2, 2, 4, 4, 8]\n",
      "7\n",
      "15\n",
      "\n",
      "2\n"
     ]
    }
   ],
   "source": [
    "print(sorted([2,4,1,8,4,2]))\n",
    "print(abs(-7))\n",
    "print(max(2,5,3,7,9,12,15))\n",
    "print()\n",
    "print(min(2,5,3,7,9,12,15))\n"
   ]
  },
  {
   "cell_type": "code",
   "execution_count": 33,
   "metadata": {},
   "outputs": [
    {
     "name": "stdout",
     "output_type": "stream",
     "text": [
      "0 a\n",
      "1 b\n",
      "2 c\n"
     ]
    }
   ],
   "source": [
    "for index, value in enumerate(['a', 'b', 'c']):\n",
    "    print(index, value)\n"
   ]
  },
  {
   "cell_type": "code",
   "execution_count": 34,
   "metadata": {},
   "outputs": [
    {
     "data": {
      "text/plain": [
       "[2, 4, 6, 12, 16]"
      ]
     },
     "execution_count": 34,
     "metadata": {},
     "output_type": "execute_result"
    }
   ],
   "source": [
    "#map()\n",
    "list(map(lambda x: x * 2, [1, 2, 3,6,8]))  "
   ]
  },
  {
   "cell_type": "code",
   "execution_count": 3,
   "metadata": {},
   "outputs": [
    {
     "name": "stdout",
     "output_type": "stream",
     "text": [
      "5\n"
     ]
    }
   ],
   "source": [
    "x=5\n",
    "print(x)"
   ]
  },
  {
   "cell_type": "code",
   "execution_count": 7,
   "metadata": {},
   "outputs": [
    {
     "name": "stdout",
     "output_type": "stream",
     "text": [
      "Name: John\n",
      "Age: 30\n"
     ]
    }
   ],
   "source": [
    "'''\n",
    "In this example, we have created three variables integer, \n",
    "string and float and we are printing all the variables\n",
    "with print() function in Python\n",
    "\n",
    "'''\n",
    "name = \"John\"\n",
    "age = 30\n",
    "\n",
    "print(\"Name:\", name)\n",
    "print(\"Age:\", age)\n"
   ]
  },
  {
   "cell_type": "code",
   "execution_count": 9,
   "metadata": {},
   "outputs": [
    {
     "name": "stdout",
     "output_type": "stream",
     "text": [
      "GeeksforGeeks \n",
      " is best for DSA Content.\n"
     ]
    }
   ],
   "source": [
    "'''\n",
    "Python String Literals\n",
    "String literals in Python’s print statement are primarily\n",
    "used to format or design how a specific string appears \n",
    "when printed using the print() function.\n",
    "\n",
    "\\n: This string literal is used to add a new blank line \n",
    "while printing a statement.\n",
    "“”: An empty quote (“”) is used to print an empty line.\n",
    "'''\n",
    "#This code uses \\n to print the data to the new line.\n",
    "print(\"GeeksforGeeks \\n is best for DSA Content.\")\n",
    "\n"
   ]
  },
  {
   "cell_type": "code",
   "execution_count": 10,
   "metadata": {},
   "outputs": [
    {
     "name": "stdout",
     "output_type": "stream",
     "text": [
      "GeeksforGeeks is a Wonderful Website.\n"
     ]
    }
   ],
   "source": [
    "'''\n",
    "Print Concatenated Strings\n",
    "In this example, we are concatenating strings\n",
    "inside print() function in Python.\n",
    "'''\n",
    "print('GeeksforGeeks is a Wonderful ' + 'Website.')\n"
   ]
  },
  {
   "cell_type": "code",
   "execution_count": 11,
   "metadata": {},
   "outputs": [
    {
     "name": "stdout",
     "output_type": "stream",
     "text": [
      "The value of a is 10 and b is 1000\n"
     ]
    }
   ],
   "source": [
    "'''\n",
    "Output formatting\n",
    "In this example, we are formatting our output to make \n",
    "it look more attractive by using str.format() function.\n",
    "'''\n",
    "a,b,=10,1000\n",
    "print('The value of a is {} and b is {}'.format(a,b))\n"
   ]
  },
  {
   "cell_type": "code",
   "execution_count": 12,
   "metadata": {},
   "outputs": [
    {
     "name": "stdout",
     "output_type": "stream",
     "text": [
      "Number Entered by User: 3\n",
      "<class 'str'>\n"
     ]
    }
   ],
   "source": [
    "'''\n",
    "Python Input\n",
    "In this example, we are using print() and input() \n",
    "in Python to take user input and print it in the output\n",
    "'''\n",
    "n = input('Enter the Number: ')\n",
    "\n",
    "print('Number Entered by User:',n)\n",
    "\n",
    "print(type(n))\n"
   ]
  },
  {
   "cell_type": "code",
   "execution_count": 6,
   "metadata": {},
   "outputs": [
    {
     "name": "stdout",
     "output_type": "stream",
     "text": [
      "GeeksforGeeks is a Wonderful Website.\n"
     ]
    }
   ],
   "source": [
    "'''\n",
    "Print Concatenated Strings\n",
    "In this example, we are concatenating\n",
    "strings inside print() function in Python.\n",
    "\n",
    "'''\n",
    "print('GeeksforGeeks is a Wonderful ' + 'Website.')\n"
   ]
  },
  {
   "cell_type": "code",
   "execution_count": 5,
   "metadata": {},
   "outputs": [
    {
     "name": "stdout",
     "output_type": "stream",
     "text": [
      "The value of a is 10 and b is 1000\n"
     ]
    }
   ],
   "source": [
    "'''\n",
    "    Output formatting\n",
    "In this example, we are formatting our output to make \n",
    "it look more attractive by using str.format() function\n",
    "\n",
    "'''\n",
    "\n",
    "a,b,=10,1000\n",
    "print('The value of a is {} and b is {}'.format(a,b))\n"
   ]
  },
  {
   "cell_type": "code",
   "execution_count": 2,
   "metadata": {},
   "outputs": [
    {
     "name": "stdout",
     "output_type": "stream",
     "text": [
      "[1, 9, 25, 49]\n"
     ]
    }
   ],
   "source": [
    "def square_list(lis1):\n",
    "    return [element * element for element in lis1]\n",
    "\n",
    "my_list = [1,3,5,7]\n",
    "squared_list = square_list(my_list)\n",
    "print(squared_list)\n"
   ]
  }
 ],
 "metadata": {
  "kernelspec": {
   "display_name": "Python 3",
   "language": "python",
   "name": "python3"
  },
  "language_info": {
   "codemirror_mode": {
    "name": "ipython",
    "version": 3
   },
   "file_extension": ".py",
   "mimetype": "text/x-python",
   "name": "python",
   "nbconvert_exporter": "python",
   "pygments_lexer": "ipython3",
   "version": "3.12.4"
  }
 },
 "nbformat": 4,
 "nbformat_minor": 2
}
